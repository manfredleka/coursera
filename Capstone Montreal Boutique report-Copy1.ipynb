{
 "cells": [
  {
   "cell_type": "markdown",
   "metadata": {},
   "source": [
    "The business goal of this project is to <b>determine the best area in Montreal where to open a new fashion boutique</b> depending on the existing venues in each area and socio economic data of their population.\n",
    "Any person looking to open a new fashion shop in Montreal could be interested.\n",
    "\n",
    "The analytic question to be answered is, can we effectively cluster neighborhoods within montreal based on the main venues of each neighborhood, and census data on revenues per neighborhood ?"
   ]
  },
  {
   "cell_type": "markdown",
   "metadata": {},
   "source": [
    "<h2>Methodology</h2>\n",
    "<ul><li><b>Data description</b> :\n",
    "    <ul> <li><b>Socio economic data</b> to determine if the surrounding population woud be a good target for the boutique sales (<a>http://www1.journaldemontreal.com/2017/09/salaires/</a>), found on journal de Montreal, giving access to Statistics Canada data I did not find directly there.</li>\n",
    "        <LI><B>Google Geocoding data</b> from the google geocoding API to get each neighborhood's coordinates to then feed the foursquare API</li>\n",
    "    <li>The <b>geographical data from foursquare</b> to learn about each neighborhood in Montreal, to determine already saturated areas where the competition would be high and the desert ones where it may be better to settle in or to avoid if it's really too desert i don't know yet</li>\n",
    "    </ul></li>\n",
    "    <li><b>Data collection and cleaning</b>: \n",
    "        <ul>\n",
    "            <li>I first cleaned the revenue data, leaving neighborhoods outside of the island of Montreal out</li>\n",
    "            <li>I used a google API to collect coordinates of each neighborhood listed in the revenue data on the island of Montreal</li>\n",
    "            <li>I collected venue data from foursquare on each neighborhood using these coordinated to get the 100 top venues</li>\n",
    "        </ul></li>\n",
    "    <li><b>Data preprocessing</b>: \n",
    "        <ul>\n",
    "            <li>I got the number of each type of venue per category per neighborhood, isolated the top 10 for each neighborhood and computed a frequency of appearence of this type of venue within this neighborhood based on the total in Montreal</li>\n",
    "            <li>I added the number of venue in the neighborhood / number of total venues in Montreal so the later classification gets a sense of how many venues there are in each neighborhood compared to the other</li>\n",
    "            <li>The revenue data was ok already</li>\n",
    "        </ul></li>\n",
    "    <li><b>Methodology 1 & Results</b>:I tried clustering the data using kmeans as pre-processed, using the venue categorization of Foursquare, and the elbow method to determine the best number of clusters for the data. I didn't find an elbow</li>\n",
    "    <li><b>Methodology 2 & Results </b>: What I did next is I used a macro categorization of the foursquare venue categories to get fewer categories to cluster using k means, and hopefully get an elbow and thus the optimal number of clusters. but it didn't work.</li>\n",
    "    <li><b>Discussion</b>: Next step would be to check the venue data, make sure no venue is listed several times as part of different neighborhoods. If not, I would look for alternative clustering methods or just work with: the total number of venue per neighborhood to get a sense of how dynamic it is, the total number of venue related to fashion in the neighborhood, the revenue data of neighboring neighborhoods+neighborhoods, and cluster this to find most dynamic and rich area to open shop</li>\n",
    "    <li><b>Conclusions</b>: The study is inconclusive regarding the business problem. Regarding the analytical one, it seems k means is not a good fit for this job</li>\n",
    "    </ul>\n",
    "            "
   ]
  },
  {
   "cell_type": "code",
   "execution_count": null,
   "metadata": {},
   "outputs": [],
   "source": []
  }
 ],
 "metadata": {
  "kernelspec": {
   "display_name": "Python 3",
   "language": "python",
   "name": "python3"
  },
  "language_info": {
   "codemirror_mode": {
    "name": "ipython",
    "version": 3
   },
   "file_extension": ".py",
   "mimetype": "text/x-python",
   "name": "python",
   "nbconvert_exporter": "python",
   "pygments_lexer": "ipython3",
   "version": "3.7.4"
  }
 },
 "nbformat": 4,
 "nbformat_minor": 2
}
